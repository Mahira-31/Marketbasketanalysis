{
 "cells": [
  {
   "cell_type": "code",
   "execution_count": 1,
   "id": "e47d4661-7d1b-4bd1-8053-45d87bf81e9d",
   "metadata": {},
   "outputs": [],
   "source": [
    "import pyECLAT\n",
    "import numpy as np\n",
    "import pandas as pd\n",
    "import plotly"
   ]
  },
  {
   "cell_type": "code",
   "execution_count": 2,
   "id": "165dccb9-70ca-4c61-895e-c94d209bbedb",
   "metadata": {},
   "outputs": [
    {
     "data": {
      "text/html": [
       "<div>\n",
       "<style scoped>\n",
       "    .dataframe tbody tr th:only-of-type {\n",
       "        vertical-align: middle;\n",
       "    }\n",
       "\n",
       "    .dataframe tbody tr th {\n",
       "        vertical-align: top;\n",
       "    }\n",
       "\n",
       "    .dataframe thead th {\n",
       "        text-align: right;\n",
       "    }\n",
       "</style>\n",
       "<table border=\"1\" class=\"dataframe\">\n",
       "  <thead>\n",
       "    <tr style=\"text-align: right;\">\n",
       "      <th></th>\n",
       "      <th>0</th>\n",
       "      <th>1</th>\n",
       "      <th>2</th>\n",
       "      <th>3</th>\n",
       "      <th>4</th>\n",
       "      <th>5</th>\n",
       "      <th>6</th>\n",
       "    </tr>\n",
       "  </thead>\n",
       "  <tbody>\n",
       "    <tr>\n",
       "      <th>0</th>\n",
       "      <td>shrimp</td>\n",
       "      <td>almonds</td>\n",
       "      <td>avocado</td>\n",
       "      <td>vegetables mix</td>\n",
       "      <td>green grapes</td>\n",
       "      <td>whole weat flour</td>\n",
       "      <td>yams</td>\n",
       "    </tr>\n",
       "    <tr>\n",
       "      <th>1</th>\n",
       "      <td>burgers</td>\n",
       "      <td>meatballs</td>\n",
       "      <td>eggs</td>\n",
       "      <td>NaN</td>\n",
       "      <td>NaN</td>\n",
       "      <td>NaN</td>\n",
       "      <td>NaN</td>\n",
       "    </tr>\n",
       "    <tr>\n",
       "      <th>2</th>\n",
       "      <td>chutney</td>\n",
       "      <td>NaN</td>\n",
       "      <td>NaN</td>\n",
       "      <td>NaN</td>\n",
       "      <td>NaN</td>\n",
       "      <td>NaN</td>\n",
       "      <td>NaN</td>\n",
       "    </tr>\n",
       "    <tr>\n",
       "      <th>3</th>\n",
       "      <td>turkey</td>\n",
       "      <td>avocado</td>\n",
       "      <td>NaN</td>\n",
       "      <td>NaN</td>\n",
       "      <td>NaN</td>\n",
       "      <td>NaN</td>\n",
       "      <td>NaN</td>\n",
       "    </tr>\n",
       "    <tr>\n",
       "      <th>4</th>\n",
       "      <td>mineral water</td>\n",
       "      <td>milk</td>\n",
       "      <td>energy bar</td>\n",
       "      <td>whole wheat rice</td>\n",
       "      <td>green tea</td>\n",
       "      <td>NaN</td>\n",
       "      <td>NaN</td>\n",
       "    </tr>\n",
       "  </tbody>\n",
       "</table>\n",
       "</div>"
      ],
      "text/plain": [
       "               0          1           2                 3             4  \\\n",
       "0         shrimp    almonds     avocado    vegetables mix  green grapes   \n",
       "1        burgers  meatballs        eggs               NaN           NaN   \n",
       "2        chutney        NaN         NaN               NaN           NaN   \n",
       "3         turkey    avocado         NaN               NaN           NaN   \n",
       "4  mineral water       milk  energy bar  whole wheat rice     green tea   \n",
       "\n",
       "                  5     6  \n",
       "0  whole weat flour  yams  \n",
       "1               NaN   NaN  \n",
       "2               NaN   NaN  \n",
       "3               NaN   NaN  \n",
       "4               NaN   NaN  "
      ]
     },
     "execution_count": 2,
     "metadata": {},
     "output_type": "execute_result"
    }
   ],
   "source": [
    "from pyECLAT import Example2\n",
    "dataset = Example2().get()\n",
    "dataset.head()"
   ]
  },
  {
   "cell_type": "code",
   "execution_count": 3,
   "id": "5d322bad-cfaa-4589-a07b-e0c2723e2a11",
   "metadata": {},
   "outputs": [
    {
     "name": "stdout",
     "output_type": "stream",
     "text": [
      "<class 'pandas.core.frame.DataFrame'>\n",
      "RangeIndex: 3001 entries, 0 to 3000\n",
      "Data columns (total 7 columns):\n",
      " #   Column  Non-Null Count  Dtype \n",
      "---  ------  --------------  ----- \n",
      " 0   0       3001 non-null   object\n",
      " 1   1       2315 non-null   object\n",
      " 2   2       1774 non-null   object\n",
      " 3   3       1374 non-null   object\n",
      " 4   4       1048 non-null   object\n",
      " 5   5       775 non-null    object\n",
      " 6   6       581 non-null    object\n",
      "dtypes: object(7)\n",
      "memory usage: 164.2+ KB\n"
     ]
    }
   ],
   "source": [
    "dataset.info()"
   ]
  },
  {
   "cell_type": "code",
   "execution_count": 4,
   "id": "aaf13dde-3287-49af-b6de-62487b1c68db",
   "metadata": {},
   "outputs": [
    {
     "data": {
      "text/html": [
       "<div>\n",
       "<style scoped>\n",
       "    .dataframe tbody tr th:only-of-type {\n",
       "        vertical-align: middle;\n",
       "    }\n",
       "\n",
       "    .dataframe tbody tr th {\n",
       "        vertical-align: top;\n",
       "    }\n",
       "\n",
       "    .dataframe thead th {\n",
       "        text-align: right;\n",
       "    }\n",
       "</style>\n",
       "<table border=\"1\" class=\"dataframe\">\n",
       "  <thead>\n",
       "    <tr style=\"text-align: right;\">\n",
       "      <th></th>\n",
       "      <th>fresh tuna</th>\n",
       "      <th>cider</th>\n",
       "      <th>meatballs</th>\n",
       "      <th>magazines</th>\n",
       "      <th>cake</th>\n",
       "      <th>napkins</th>\n",
       "      <th>energy drink</th>\n",
       "      <th>blueberries</th>\n",
       "      <th>burgers</th>\n",
       "      <th>mayonnaise</th>\n",
       "      <th>...</th>\n",
       "      <th>low fat yogurt</th>\n",
       "      <th>gluten free bar</th>\n",
       "      <th>energy bar</th>\n",
       "      <th>tomato sauce</th>\n",
       "      <th>water spray</th>\n",
       "      <th>chocolate</th>\n",
       "      <th>oil</th>\n",
       "      <th>salad</th>\n",
       "      <th>almonds</th>\n",
       "      <th>carrots</th>\n",
       "    </tr>\n",
       "  </thead>\n",
       "  <tbody>\n",
       "    <tr>\n",
       "      <th>0</th>\n",
       "      <td>0</td>\n",
       "      <td>0</td>\n",
       "      <td>0</td>\n",
       "      <td>0</td>\n",
       "      <td>0</td>\n",
       "      <td>0</td>\n",
       "      <td>0</td>\n",
       "      <td>0</td>\n",
       "      <td>0</td>\n",
       "      <td>0</td>\n",
       "      <td>...</td>\n",
       "      <td>0</td>\n",
       "      <td>0</td>\n",
       "      <td>0</td>\n",
       "      <td>0</td>\n",
       "      <td>0</td>\n",
       "      <td>0</td>\n",
       "      <td>0</td>\n",
       "      <td>0</td>\n",
       "      <td>1</td>\n",
       "      <td>0</td>\n",
       "    </tr>\n",
       "    <tr>\n",
       "      <th>1</th>\n",
       "      <td>0</td>\n",
       "      <td>0</td>\n",
       "      <td>1</td>\n",
       "      <td>0</td>\n",
       "      <td>0</td>\n",
       "      <td>0</td>\n",
       "      <td>0</td>\n",
       "      <td>0</td>\n",
       "      <td>1</td>\n",
       "      <td>0</td>\n",
       "      <td>...</td>\n",
       "      <td>0</td>\n",
       "      <td>0</td>\n",
       "      <td>0</td>\n",
       "      <td>0</td>\n",
       "      <td>0</td>\n",
       "      <td>0</td>\n",
       "      <td>0</td>\n",
       "      <td>0</td>\n",
       "      <td>0</td>\n",
       "      <td>0</td>\n",
       "    </tr>\n",
       "    <tr>\n",
       "      <th>2</th>\n",
       "      <td>0</td>\n",
       "      <td>0</td>\n",
       "      <td>0</td>\n",
       "      <td>0</td>\n",
       "      <td>0</td>\n",
       "      <td>0</td>\n",
       "      <td>0</td>\n",
       "      <td>0</td>\n",
       "      <td>0</td>\n",
       "      <td>0</td>\n",
       "      <td>...</td>\n",
       "      <td>0</td>\n",
       "      <td>0</td>\n",
       "      <td>0</td>\n",
       "      <td>0</td>\n",
       "      <td>0</td>\n",
       "      <td>0</td>\n",
       "      <td>0</td>\n",
       "      <td>0</td>\n",
       "      <td>0</td>\n",
       "      <td>0</td>\n",
       "    </tr>\n",
       "    <tr>\n",
       "      <th>3</th>\n",
       "      <td>0</td>\n",
       "      <td>0</td>\n",
       "      <td>0</td>\n",
       "      <td>0</td>\n",
       "      <td>0</td>\n",
       "      <td>0</td>\n",
       "      <td>0</td>\n",
       "      <td>0</td>\n",
       "      <td>0</td>\n",
       "      <td>0</td>\n",
       "      <td>...</td>\n",
       "      <td>0</td>\n",
       "      <td>0</td>\n",
       "      <td>0</td>\n",
       "      <td>0</td>\n",
       "      <td>0</td>\n",
       "      <td>0</td>\n",
       "      <td>0</td>\n",
       "      <td>0</td>\n",
       "      <td>0</td>\n",
       "      <td>0</td>\n",
       "    </tr>\n",
       "    <tr>\n",
       "      <th>4</th>\n",
       "      <td>0</td>\n",
       "      <td>0</td>\n",
       "      <td>0</td>\n",
       "      <td>0</td>\n",
       "      <td>0</td>\n",
       "      <td>0</td>\n",
       "      <td>0</td>\n",
       "      <td>0</td>\n",
       "      <td>0</td>\n",
       "      <td>0</td>\n",
       "      <td>...</td>\n",
       "      <td>0</td>\n",
       "      <td>0</td>\n",
       "      <td>1</td>\n",
       "      <td>0</td>\n",
       "      <td>0</td>\n",
       "      <td>0</td>\n",
       "      <td>0</td>\n",
       "      <td>0</td>\n",
       "      <td>0</td>\n",
       "      <td>0</td>\n",
       "    </tr>\n",
       "    <tr>\n",
       "      <th>...</th>\n",
       "      <td>...</td>\n",
       "      <td>...</td>\n",
       "      <td>...</td>\n",
       "      <td>...</td>\n",
       "      <td>...</td>\n",
       "      <td>...</td>\n",
       "      <td>...</td>\n",
       "      <td>...</td>\n",
       "      <td>...</td>\n",
       "      <td>...</td>\n",
       "      <td>...</td>\n",
       "      <td>...</td>\n",
       "      <td>...</td>\n",
       "      <td>...</td>\n",
       "      <td>...</td>\n",
       "      <td>...</td>\n",
       "      <td>...</td>\n",
       "      <td>...</td>\n",
       "      <td>...</td>\n",
       "      <td>...</td>\n",
       "      <td>...</td>\n",
       "    </tr>\n",
       "    <tr>\n",
       "      <th>2996</th>\n",
       "      <td>0</td>\n",
       "      <td>0</td>\n",
       "      <td>0</td>\n",
       "      <td>0</td>\n",
       "      <td>0</td>\n",
       "      <td>0</td>\n",
       "      <td>0</td>\n",
       "      <td>0</td>\n",
       "      <td>0</td>\n",
       "      <td>0</td>\n",
       "      <td>...</td>\n",
       "      <td>0</td>\n",
       "      <td>0</td>\n",
       "      <td>0</td>\n",
       "      <td>0</td>\n",
       "      <td>0</td>\n",
       "      <td>0</td>\n",
       "      <td>0</td>\n",
       "      <td>0</td>\n",
       "      <td>0</td>\n",
       "      <td>0</td>\n",
       "    </tr>\n",
       "    <tr>\n",
       "      <th>2997</th>\n",
       "      <td>0</td>\n",
       "      <td>0</td>\n",
       "      <td>0</td>\n",
       "      <td>0</td>\n",
       "      <td>1</td>\n",
       "      <td>0</td>\n",
       "      <td>0</td>\n",
       "      <td>0</td>\n",
       "      <td>0</td>\n",
       "      <td>0</td>\n",
       "      <td>...</td>\n",
       "      <td>0</td>\n",
       "      <td>0</td>\n",
       "      <td>0</td>\n",
       "      <td>0</td>\n",
       "      <td>0</td>\n",
       "      <td>0</td>\n",
       "      <td>0</td>\n",
       "      <td>0</td>\n",
       "      <td>0</td>\n",
       "      <td>0</td>\n",
       "    </tr>\n",
       "    <tr>\n",
       "      <th>2998</th>\n",
       "      <td>0</td>\n",
       "      <td>0</td>\n",
       "      <td>0</td>\n",
       "      <td>0</td>\n",
       "      <td>0</td>\n",
       "      <td>0</td>\n",
       "      <td>0</td>\n",
       "      <td>0</td>\n",
       "      <td>0</td>\n",
       "      <td>0</td>\n",
       "      <td>...</td>\n",
       "      <td>0</td>\n",
       "      <td>0</td>\n",
       "      <td>0</td>\n",
       "      <td>0</td>\n",
       "      <td>0</td>\n",
       "      <td>0</td>\n",
       "      <td>0</td>\n",
       "      <td>0</td>\n",
       "      <td>0</td>\n",
       "      <td>0</td>\n",
       "    </tr>\n",
       "    <tr>\n",
       "      <th>2999</th>\n",
       "      <td>0</td>\n",
       "      <td>0</td>\n",
       "      <td>0</td>\n",
       "      <td>0</td>\n",
       "      <td>0</td>\n",
       "      <td>0</td>\n",
       "      <td>0</td>\n",
       "      <td>1</td>\n",
       "      <td>1</td>\n",
       "      <td>0</td>\n",
       "      <td>...</td>\n",
       "      <td>0</td>\n",
       "      <td>0</td>\n",
       "      <td>0</td>\n",
       "      <td>0</td>\n",
       "      <td>0</td>\n",
       "      <td>1</td>\n",
       "      <td>0</td>\n",
       "      <td>0</td>\n",
       "      <td>0</td>\n",
       "      <td>0</td>\n",
       "    </tr>\n",
       "    <tr>\n",
       "      <th>3000</th>\n",
       "      <td>0</td>\n",
       "      <td>0</td>\n",
       "      <td>0</td>\n",
       "      <td>0</td>\n",
       "      <td>1</td>\n",
       "      <td>0</td>\n",
       "      <td>0</td>\n",
       "      <td>0</td>\n",
       "      <td>0</td>\n",
       "      <td>0</td>\n",
       "      <td>...</td>\n",
       "      <td>0</td>\n",
       "      <td>0</td>\n",
       "      <td>0</td>\n",
       "      <td>0</td>\n",
       "      <td>0</td>\n",
       "      <td>0</td>\n",
       "      <td>0</td>\n",
       "      <td>0</td>\n",
       "      <td>0</td>\n",
       "      <td>0</td>\n",
       "    </tr>\n",
       "  </tbody>\n",
       "</table>\n",
       "<p>3001 rows × 119 columns</p>\n",
       "</div>"
      ],
      "text/plain": [
       "      fresh tuna  cider  meatballs  magazines  cake  napkins  energy drink  \\\n",
       "0              0      0          0          0     0        0             0   \n",
       "1              0      0          1          0     0        0             0   \n",
       "2              0      0          0          0     0        0             0   \n",
       "3              0      0          0          0     0        0             0   \n",
       "4              0      0          0          0     0        0             0   \n",
       "...          ...    ...        ...        ...   ...      ...           ...   \n",
       "2996           0      0          0          0     0        0             0   \n",
       "2997           0      0          0          0     1        0             0   \n",
       "2998           0      0          0          0     0        0             0   \n",
       "2999           0      0          0          0     0        0             0   \n",
       "3000           0      0          0          0     1        0             0   \n",
       "\n",
       "      blueberries  burgers  mayonnaise  ...  low fat yogurt  gluten free bar  \\\n",
       "0               0        0           0  ...               0                0   \n",
       "1               0        1           0  ...               0                0   \n",
       "2               0        0           0  ...               0                0   \n",
       "3               0        0           0  ...               0                0   \n",
       "4               0        0           0  ...               0                0   \n",
       "...           ...      ...         ...  ...             ...              ...   \n",
       "2996            0        0           0  ...               0                0   \n",
       "2997            0        0           0  ...               0                0   \n",
       "2998            0        0           0  ...               0                0   \n",
       "2999            1        1           0  ...               0                0   \n",
       "3000            0        0           0  ...               0                0   \n",
       "\n",
       "      energy bar  tomato sauce  water spray  chocolate  oil  salad  almonds  \\\n",
       "0              0             0            0          0    0      0        1   \n",
       "1              0             0            0          0    0      0        0   \n",
       "2              0             0            0          0    0      0        0   \n",
       "3              0             0            0          0    0      0        0   \n",
       "4              1             0            0          0    0      0        0   \n",
       "...          ...           ...          ...        ...  ...    ...      ...   \n",
       "2996           0             0            0          0    0      0        0   \n",
       "2997           0             0            0          0    0      0        0   \n",
       "2998           0             0            0          0    0      0        0   \n",
       "2999           0             0            0          1    0      0        0   \n",
       "3000           0             0            0          0    0      0        0   \n",
       "\n",
       "      carrots  \n",
       "0           0  \n",
       "1           0  \n",
       "2           0  \n",
       "3           0  \n",
       "4           0  \n",
       "...       ...  \n",
       "2996        0  \n",
       "2997        0  \n",
       "2998        0  \n",
       "2999        0  \n",
       "3000        0  \n",
       "\n",
       "[3001 rows x 119 columns]"
      ]
     },
     "execution_count": 4,
     "metadata": {},
     "output_type": "execute_result"
    }
   ],
   "source": [
    "from pyECLAT import ECLAT\n",
    "eclat = ECLAT(data=dataset)\n",
    "eclat.df_bin"
   ]
  },
  {
   "cell_type": "code",
   "execution_count": 5,
   "id": "68ddf82e-b5c2-4491-ab92-6a1b2d6b7845",
   "metadata": {},
   "outputs": [
    {
     "data": {
      "text/plain": [
       "fresh tuna     77\n",
       "cider          39\n",
       "meatballs      65\n",
       "magazines      18\n",
       "cake          231\n",
       "             ... \n",
       "chocolate     485\n",
       "oil            71\n",
       "salad          10\n",
       "almonds        52\n",
       "carrots        32\n",
       "Length: 119, dtype: int64"
      ]
     },
     "execution_count": 5,
     "metadata": {},
     "output_type": "execute_result"
    }
   ],
   "source": [
    "items_total = eclat.df_bin.astype(int).sum(axis=0)\n",
    "items_total"
   ]
  },
  {
   "cell_type": "code",
   "execution_count": 6,
   "id": "af485c7f-4e50-4e15-a71c-4776234f50be",
   "metadata": {},
   "outputs": [
    {
     "data": {
      "text/plain": [
       "0       7\n",
       "1       3\n",
       "2       1\n",
       "3       2\n",
       "4       5\n",
       "       ..\n",
       "2996    1\n",
       "2997    2\n",
       "2998    3\n",
       "2999    7\n",
       "3000    5\n",
       "Length: 3001, dtype: int64"
      ]
     },
     "execution_count": 6,
     "metadata": {},
     "output_type": "execute_result"
    }
   ],
   "source": [
    "items_per_transaction = eclat.df_bin.astype(int).sum(axis=1)\n",
    "items_per_transaction"
   ]
  },
  {
   "cell_type": "code",
   "execution_count": 7,
   "id": "54fd4159-12ff-466b-9293-8289f81cfc39",
   "metadata": {},
   "outputs": [
    {
     "data": {
      "text/html": [
       "<style type=\"text/css\">\n",
       "#T_3156c_row0_col1 {\n",
       "  background-color: #08306b;\n",
       "  color: #f1f1f1;\n",
       "}\n",
       "#T_3156c_row1_col1 {\n",
       "  background-color: #a8cee4;\n",
       "  color: #000000;\n",
       "}\n",
       "#T_3156c_row2_col1 {\n",
       "  background-color: #bdd7ec;\n",
       "  color: #000000;\n",
       "}\n",
       "#T_3156c_row3_col1 {\n",
       "  background-color: #e6f0f9;\n",
       "  color: #000000;\n",
       "}\n",
       "#T_3156c_row4_col1 {\n",
       "  background-color: #f7fbff;\n",
       "  color: #000000;\n",
       "}\n",
       "</style>\n",
       "<table id=\"T_3156c\">\n",
       "  <thead>\n",
       "    <tr>\n",
       "      <th class=\"blank level0\" >&nbsp;</th>\n",
       "      <th id=\"T_3156c_level0_col0\" class=\"col_heading level0 col0\" >items</th>\n",
       "      <th id=\"T_3156c_level0_col1\" class=\"col_heading level0 col1\" >transactions</th>\n",
       "    </tr>\n",
       "  </thead>\n",
       "  <tbody>\n",
       "    <tr>\n",
       "      <th id=\"T_3156c_level0_row0\" class=\"row_heading level0 row0\" >36</th>\n",
       "      <td id=\"T_3156c_row0_col0\" class=\"data row0 col0\" >mineral water</td>\n",
       "      <td id=\"T_3156c_row0_col1\" class=\"data row0 col1\" >711</td>\n",
       "    </tr>\n",
       "    <tr>\n",
       "      <th id=\"T_3156c_level0_row1\" class=\"row_heading level0 row1\" >56</th>\n",
       "      <td id=\"T_3156c_row1_col0\" class=\"data row1 col0\" >spaghetti</td>\n",
       "      <td id=\"T_3156c_row1_col1\" class=\"data row1 col1\" >549</td>\n",
       "    </tr>\n",
       "    <tr>\n",
       "      <th id=\"T_3156c_level0_row2\" class=\"row_heading level0 row2\" >22</th>\n",
       "      <td id=\"T_3156c_row2_col0\" class=\"data row2 col0\" >eggs</td>\n",
       "      <td id=\"T_3156c_row2_col1\" class=\"data row2 col1\" >532</td>\n",
       "    </tr>\n",
       "    <tr>\n",
       "      <th id=\"T_3156c_level0_row3\" class=\"row_heading level0 row3\" >114</th>\n",
       "      <td id=\"T_3156c_row3_col0\" class=\"data row3 col0\" >chocolate</td>\n",
       "      <td id=\"T_3156c_row3_col1\" class=\"data row3 col1\" >485</td>\n",
       "    </tr>\n",
       "    <tr>\n",
       "      <th id=\"T_3156c_level0_row4\" class=\"row_heading level0 row4\" >92</th>\n",
       "      <td id=\"T_3156c_row4_col0\" class=\"data row4 col0\" >french fries</td>\n",
       "      <td id=\"T_3156c_row4_col1\" class=\"data row4 col1\" >463</td>\n",
       "    </tr>\n",
       "  </tbody>\n",
       "</table>\n"
      ],
      "text/plain": [
       "<pandas.io.formats.style.Styler at 0x262b1eba390>"
      ]
     },
     "execution_count": 7,
     "metadata": {},
     "output_type": "execute_result"
    }
   ],
   "source": [
    "import pandas as pd\n",
    "df = pd.DataFrame({'items': items_total.index, 'transactions': items_total.values}) \n",
    "df_table = df.sort_values(\"transactions\", ascending=False)\n",
    "df_table.head(5).style.background_gradient(cmap='Blues')"
   ]
  },
  {
   "cell_type": "code",
   "execution_count": 14,
   "id": "25daf0c3-c55a-41cb-9e26-e60a205991dd",
   "metadata": {},
   "outputs": [
    {
     "data": {
      "application/vnd.plotly.v1+json": {
       "config": {
        "plotlyServerURL": "https://plot.ly"
       },
       "data": [
        {
         "branchvalues": "total",
         "customdata": [
          [
           107
          ],
          [
           71
          ],
          [
           257
          ],
          [
           89
          ],
          [
           231
          ],
          [
           128
          ],
          [
           170
          ],
          [
           485
          ],
          [
           231
          ],
          [
           144
          ],
          [
           59
          ],
          [
           532
          ],
          [
           80
          ],
          [
           72
          ],
          [
           212
          ],
          [
           463
          ],
          [
           65
          ],
          [
           91
          ],
          [
           77
          ],
          [
           144
          ],
          [
           276
          ],
          [
           166
          ],
          [
           340
          ],
          [
           281
          ],
          [
           83
          ],
          [
           151
          ],
          [
           116
          ],
          [
           77
          ],
          [
           70
          ],
          [
           170
          ],
          [
           65
          ],
          [
           381
          ],
          [
           711
          ],
          [
           69
          ],
          [
           71
          ],
          [
           198
          ],
          [
           236
          ],
          [
           86
          ],
          [
           86
          ],
          [
           117
          ],
          [
           232
          ],
          [
           163
          ],
          [
           549
          ],
          [
           59
          ],
          [
           206
          ],
          [
           198
          ],
          [
           59
          ],
          [
           91
          ],
          [
           136
          ],
          [
           72
          ],
          [
           299.9690989916513
          ]
         ],
         "domain": {
          "x": [
           0,
           1
          ],
          "y": [
           0,
           1
          ]
         },
         "hovertemplate": "labels=%{label}<br>transactions=%{value}<br>parent=%{parent}<br>id=%{id}<br>color=%{color}<extra></extra>",
         "ids": [
          "Tree Map/avocado",
          "Tree Map/brownies",
          "Tree Map/burgers",
          "Tree Map/butter",
          "Tree Map/cake",
          "Tree Map/champagne",
          "Tree Map/chicken",
          "Tree Map/chocolate",
          "Tree Map/cookies",
          "Tree Map/cooking oil",
          "Tree Map/cottage cheese",
          "Tree Map/eggs",
          "Tree Map/energy bar",
          "Tree Map/energy drink",
          "Tree Map/escalope",
          "Tree Map/french fries",
          "Tree Map/french wine",
          "Tree Map/fresh bread",
          "Tree Map/fresh tuna",
          "Tree Map/frozen smoothie",
          "Tree Map/frozen vegetables",
          "Tree Map/grated cheese",
          "Tree Map/green tea",
          "Tree Map/ground beef",
          "Tree Map/ham",
          "Tree Map/herb & pepper",
          "Tree Map/honey",
          "Tree Map/hot dogs",
          "Tree Map/light mayo",
          "Tree Map/low fat yogurt",
          "Tree Map/meatballs",
          "Tree Map/milk",
          "Tree Map/mineral water",
          "Tree Map/muffins",
          "Tree Map/oil",
          "Tree Map/olive oil",
          "Tree Map/pancakes",
          "Tree Map/pepper",
          "Tree Map/red wine",
          "Tree Map/salmon",
          "Tree Map/shrimp",
          "Tree Map/soup",
          "Tree Map/spaghetti",
          "Tree Map/strawberries",
          "Tree Map/tomatoes",
          "Tree Map/turkey",
          "Tree Map/vegetables mix",
          "Tree Map/whole wheat pasta",
          "Tree Map/whole wheat rice",
          "Tree Map/yogurt cake",
          "Tree Map"
         ],
         "labels": [
          "avocado",
          "brownies",
          "burgers",
          "butter",
          "cake",
          "champagne",
          "chicken",
          "chocolate",
          "cookies",
          "cooking oil",
          "cottage cheese",
          "eggs",
          "energy bar",
          "energy drink",
          "escalope",
          "french fries",
          "french wine",
          "fresh bread",
          "fresh tuna",
          "frozen smoothie",
          "frozen vegetables",
          "grated cheese",
          "green tea",
          "ground beef",
          "ham",
          "herb & pepper",
          "honey",
          "hot dogs",
          "light mayo",
          "low fat yogurt",
          "meatballs",
          "milk",
          "mineral water",
          "muffins",
          "oil",
          "olive oil",
          "pancakes",
          "pepper",
          "red wine",
          "salmon",
          "shrimp",
          "soup",
          "spaghetti",
          "strawberries",
          "tomatoes",
          "turkey",
          "vegetables mix",
          "whole wheat pasta",
          "whole wheat rice",
          "yogurt cake",
          "Tree Map"
         ],
         "marker": {
          "coloraxis": "coloraxis",
          "colors": [
           107,
           71,
           257,
           89,
           231,
           128,
           170,
           485,
           231,
           144,
           59,
           532,
           80,
           72,
           212,
           463,
           65,
           91,
           77,
           144,
           276,
           166,
           340,
           281,
           83,
           151,
           116,
           77,
           70,
           170,
           65,
           381,
           711,
           69,
           71,
           198,
           236,
           86,
           86,
           117,
           232,
           163,
           549,
           59,
           206,
           198,
           59,
           91,
           136,
           72,
           299.9690989916513
          ]
         },
         "name": "",
         "parents": [
          "Tree Map",
          "Tree Map",
          "Tree Map",
          "Tree Map",
          "Tree Map",
          "Tree Map",
          "Tree Map",
          "Tree Map",
          "Tree Map",
          "Tree Map",
          "Tree Map",
          "Tree Map",
          "Tree Map",
          "Tree Map",
          "Tree Map",
          "Tree Map",
          "Tree Map",
          "Tree Map",
          "Tree Map",
          "Tree Map",
          "Tree Map",
          "Tree Map",
          "Tree Map",
          "Tree Map",
          "Tree Map",
          "Tree Map",
          "Tree Map",
          "Tree Map",
          "Tree Map",
          "Tree Map",
          "Tree Map",
          "Tree Map",
          "Tree Map",
          "Tree Map",
          "Tree Map",
          "Tree Map",
          "Tree Map",
          "Tree Map",
          "Tree Map",
          "Tree Map",
          "Tree Map",
          "Tree Map",
          "Tree Map",
          "Tree Map",
          "Tree Map",
          "Tree Map",
          "Tree Map",
          "Tree Map",
          "Tree Map",
          "Tree Map",
          ""
         ],
         "type": "treemap",
         "values": [
          107,
          71,
          257,
          89,
          231,
          128,
          170,
          485,
          231,
          144,
          59,
          532,
          80,
          72,
          212,
          463,
          65,
          91,
          77,
          144,
          276,
          166,
          340,
          281,
          83,
          151,
          116,
          77,
          70,
          170,
          65,
          381,
          711,
          69,
          71,
          198,
          236,
          86,
          86,
          117,
          232,
          163,
          549,
          59,
          206,
          198,
          59,
          91,
          136,
          72,
          9223
         ]
        }
       ],
       "layout": {
        "autosize": true,
        "coloraxis": {
         "colorbar": {
          "title": {
           "text": "color"
          }
         },
         "colorscale": [
          [
           0,
           "#0d0887"
          ],
          [
           0.1111111111111111,
           "#46039f"
          ],
          [
           0.2222222222222222,
           "#7201a8"
          ],
          [
           0.3333333333333333,
           "#9c179e"
          ],
          [
           0.4444444444444444,
           "#bd3786"
          ],
          [
           0.5555555555555556,
           "#d8576b"
          ],
          [
           0.6666666666666666,
           "#ed7953"
          ],
          [
           0.7777777777777778,
           "#fb9f3a"
          ],
          [
           0.8888888888888888,
           "#fdca26"
          ],
          [
           1,
           "#f0f921"
          ]
         ]
        },
        "legend": {
         "tracegroupgap": 0
        },
        "margin": {
         "t": 60
        },
        "template": {
         "data": {
          "bar": [
           {
            "error_x": {
             "color": "#2a3f5f"
            },
            "error_y": {
             "color": "#2a3f5f"
            },
            "marker": {
             "line": {
              "color": "#E5ECF6",
              "width": 0.5
             },
             "pattern": {
              "fillmode": "overlay",
              "size": 10,
              "solidity": 0.2
             }
            },
            "type": "bar"
           }
          ],
          "barpolar": [
           {
            "marker": {
             "line": {
              "color": "#E5ECF6",
              "width": 0.5
             },
             "pattern": {
              "fillmode": "overlay",
              "size": 10,
              "solidity": 0.2
             }
            },
            "type": "barpolar"
           }
          ],
          "carpet": [
           {
            "aaxis": {
             "endlinecolor": "#2a3f5f",
             "gridcolor": "white",
             "linecolor": "white",
             "minorgridcolor": "white",
             "startlinecolor": "#2a3f5f"
            },
            "baxis": {
             "endlinecolor": "#2a3f5f",
             "gridcolor": "white",
             "linecolor": "white",
             "minorgridcolor": "white",
             "startlinecolor": "#2a3f5f"
            },
            "type": "carpet"
           }
          ],
          "choropleth": [
           {
            "colorbar": {
             "outlinewidth": 0,
             "ticks": ""
            },
            "type": "choropleth"
           }
          ],
          "contour": [
           {
            "colorbar": {
             "outlinewidth": 0,
             "ticks": ""
            },
            "colorscale": [
             [
              0,
              "#0d0887"
             ],
             [
              0.1111111111111111,
              "#46039f"
             ],
             [
              0.2222222222222222,
              "#7201a8"
             ],
             [
              0.3333333333333333,
              "#9c179e"
             ],
             [
              0.4444444444444444,
              "#bd3786"
             ],
             [
              0.5555555555555556,
              "#d8576b"
             ],
             [
              0.6666666666666666,
              "#ed7953"
             ],
             [
              0.7777777777777778,
              "#fb9f3a"
             ],
             [
              0.8888888888888888,
              "#fdca26"
             ],
             [
              1,
              "#f0f921"
             ]
            ],
            "type": "contour"
           }
          ],
          "contourcarpet": [
           {
            "colorbar": {
             "outlinewidth": 0,
             "ticks": ""
            },
            "type": "contourcarpet"
           }
          ],
          "heatmap": [
           {
            "colorbar": {
             "outlinewidth": 0,
             "ticks": ""
            },
            "colorscale": [
             [
              0,
              "#0d0887"
             ],
             [
              0.1111111111111111,
              "#46039f"
             ],
             [
              0.2222222222222222,
              "#7201a8"
             ],
             [
              0.3333333333333333,
              "#9c179e"
             ],
             [
              0.4444444444444444,
              "#bd3786"
             ],
             [
              0.5555555555555556,
              "#d8576b"
             ],
             [
              0.6666666666666666,
              "#ed7953"
             ],
             [
              0.7777777777777778,
              "#fb9f3a"
             ],
             [
              0.8888888888888888,
              "#fdca26"
             ],
             [
              1,
              "#f0f921"
             ]
            ],
            "type": "heatmap"
           }
          ],
          "heatmapgl": [
           {
            "colorbar": {
             "outlinewidth": 0,
             "ticks": ""
            },
            "colorscale": [
             [
              0,
              "#0d0887"
             ],
             [
              0.1111111111111111,
              "#46039f"
             ],
             [
              0.2222222222222222,
              "#7201a8"
             ],
             [
              0.3333333333333333,
              "#9c179e"
             ],
             [
              0.4444444444444444,
              "#bd3786"
             ],
             [
              0.5555555555555556,
              "#d8576b"
             ],
             [
              0.6666666666666666,
              "#ed7953"
             ],
             [
              0.7777777777777778,
              "#fb9f3a"
             ],
             [
              0.8888888888888888,
              "#fdca26"
             ],
             [
              1,
              "#f0f921"
             ]
            ],
            "type": "heatmapgl"
           }
          ],
          "histogram": [
           {
            "marker": {
             "pattern": {
              "fillmode": "overlay",
              "size": 10,
              "solidity": 0.2
             }
            },
            "type": "histogram"
           }
          ],
          "histogram2d": [
           {
            "colorbar": {
             "outlinewidth": 0,
             "ticks": ""
            },
            "colorscale": [
             [
              0,
              "#0d0887"
             ],
             [
              0.1111111111111111,
              "#46039f"
             ],
             [
              0.2222222222222222,
              "#7201a8"
             ],
             [
              0.3333333333333333,
              "#9c179e"
             ],
             [
              0.4444444444444444,
              "#bd3786"
             ],
             [
              0.5555555555555556,
              "#d8576b"
             ],
             [
              0.6666666666666666,
              "#ed7953"
             ],
             [
              0.7777777777777778,
              "#fb9f3a"
             ],
             [
              0.8888888888888888,
              "#fdca26"
             ],
             [
              1,
              "#f0f921"
             ]
            ],
            "type": "histogram2d"
           }
          ],
          "histogram2dcontour": [
           {
            "colorbar": {
             "outlinewidth": 0,
             "ticks": ""
            },
            "colorscale": [
             [
              0,
              "#0d0887"
             ],
             [
              0.1111111111111111,
              "#46039f"
             ],
             [
              0.2222222222222222,
              "#7201a8"
             ],
             [
              0.3333333333333333,
              "#9c179e"
             ],
             [
              0.4444444444444444,
              "#bd3786"
             ],
             [
              0.5555555555555556,
              "#d8576b"
             ],
             [
              0.6666666666666666,
              "#ed7953"
             ],
             [
              0.7777777777777778,
              "#fb9f3a"
             ],
             [
              0.8888888888888888,
              "#fdca26"
             ],
             [
              1,
              "#f0f921"
             ]
            ],
            "type": "histogram2dcontour"
           }
          ],
          "mesh3d": [
           {
            "colorbar": {
             "outlinewidth": 0,
             "ticks": ""
            },
            "type": "mesh3d"
           }
          ],
          "parcoords": [
           {
            "line": {
             "colorbar": {
              "outlinewidth": 0,
              "ticks": ""
             }
            },
            "type": "parcoords"
           }
          ],
          "pie": [
           {
            "automargin": true,
            "type": "pie"
           }
          ],
          "scatter": [
           {
            "fillpattern": {
             "fillmode": "overlay",
             "size": 10,
             "solidity": 0.2
            },
            "type": "scatter"
           }
          ],
          "scatter3d": [
           {
            "line": {
             "colorbar": {
              "outlinewidth": 0,
              "ticks": ""
             }
            },
            "marker": {
             "colorbar": {
              "outlinewidth": 0,
              "ticks": ""
             }
            },
            "type": "scatter3d"
           }
          ],
          "scattercarpet": [
           {
            "marker": {
             "colorbar": {
              "outlinewidth": 0,
              "ticks": ""
             }
            },
            "type": "scattercarpet"
           }
          ],
          "scattergeo": [
           {
            "marker": {
             "colorbar": {
              "outlinewidth": 0,
              "ticks": ""
             }
            },
            "type": "scattergeo"
           }
          ],
          "scattergl": [
           {
            "marker": {
             "colorbar": {
              "outlinewidth": 0,
              "ticks": ""
             }
            },
            "type": "scattergl"
           }
          ],
          "scattermapbox": [
           {
            "marker": {
             "colorbar": {
              "outlinewidth": 0,
              "ticks": ""
             }
            },
            "type": "scattermapbox"
           }
          ],
          "scatterpolar": [
           {
            "marker": {
             "colorbar": {
              "outlinewidth": 0,
              "ticks": ""
             }
            },
            "type": "scatterpolar"
           }
          ],
          "scatterpolargl": [
           {
            "marker": {
             "colorbar": {
              "outlinewidth": 0,
              "ticks": ""
             }
            },
            "type": "scatterpolargl"
           }
          ],
          "scatterternary": [
           {
            "marker": {
             "colorbar": {
              "outlinewidth": 0,
              "ticks": ""
             }
            },
            "type": "scatterternary"
           }
          ],
          "surface": [
           {
            "colorbar": {
             "outlinewidth": 0,
             "ticks": ""
            },
            "colorscale": [
             [
              0,
              "#0d0887"
             ],
             [
              0.1111111111111111,
              "#46039f"
             ],
             [
              0.2222222222222222,
              "#7201a8"
             ],
             [
              0.3333333333333333,
              "#9c179e"
             ],
             [
              0.4444444444444444,
              "#bd3786"
             ],
             [
              0.5555555555555556,
              "#d8576b"
             ],
             [
              0.6666666666666666,
              "#ed7953"
             ],
             [
              0.7777777777777778,
              "#fb9f3a"
             ],
             [
              0.8888888888888888,
              "#fdca26"
             ],
             [
              1,
              "#f0f921"
             ]
            ],
            "type": "surface"
           }
          ],
          "table": [
           {
            "cells": {
             "fill": {
              "color": "#EBF0F8"
             },
             "line": {
              "color": "white"
             }
            },
            "header": {
             "fill": {
              "color": "#C8D4E3"
             },
             "line": {
              "color": "white"
             }
            },
            "type": "table"
           }
          ]
         },
         "layout": {
          "annotationdefaults": {
           "arrowcolor": "#2a3f5f",
           "arrowhead": 0,
           "arrowwidth": 1
          },
          "autotypenumbers": "strict",
          "coloraxis": {
           "colorbar": {
            "outlinewidth": 0,
            "ticks": ""
           }
          },
          "colorscale": {
           "diverging": [
            [
             0,
             "#8e0152"
            ],
            [
             0.1,
             "#c51b7d"
            ],
            [
             0.2,
             "#de77ae"
            ],
            [
             0.3,
             "#f1b6da"
            ],
            [
             0.4,
             "#fde0ef"
            ],
            [
             0.5,
             "#f7f7f7"
            ],
            [
             0.6,
             "#e6f5d0"
            ],
            [
             0.7,
             "#b8e186"
            ],
            [
             0.8,
             "#7fbc41"
            ],
            [
             0.9,
             "#4d9221"
            ],
            [
             1,
             "#276419"
            ]
           ],
           "sequential": [
            [
             0,
             "#0d0887"
            ],
            [
             0.1111111111111111,
             "#46039f"
            ],
            [
             0.2222222222222222,
             "#7201a8"
            ],
            [
             0.3333333333333333,
             "#9c179e"
            ],
            [
             0.4444444444444444,
             "#bd3786"
            ],
            [
             0.5555555555555556,
             "#d8576b"
            ],
            [
             0.6666666666666666,
             "#ed7953"
            ],
            [
             0.7777777777777778,
             "#fb9f3a"
            ],
            [
             0.8888888888888888,
             "#fdca26"
            ],
            [
             1,
             "#f0f921"
            ]
           ],
           "sequentialminus": [
            [
             0,
             "#0d0887"
            ],
            [
             0.1111111111111111,
             "#46039f"
            ],
            [
             0.2222222222222222,
             "#7201a8"
            ],
            [
             0.3333333333333333,
             "#9c179e"
            ],
            [
             0.4444444444444444,
             "#bd3786"
            ],
            [
             0.5555555555555556,
             "#d8576b"
            ],
            [
             0.6666666666666666,
             "#ed7953"
            ],
            [
             0.7777777777777778,
             "#fb9f3a"
            ],
            [
             0.8888888888888888,
             "#fdca26"
            ],
            [
             1,
             "#f0f921"
            ]
           ]
          },
          "colorway": [
           "#636efa",
           "#EF553B",
           "#00cc96",
           "#ab63fa",
           "#FFA15A",
           "#19d3f3",
           "#FF6692",
           "#B6E880",
           "#FF97FF",
           "#FECB52"
          ],
          "font": {
           "color": "#2a3f5f"
          },
          "geo": {
           "bgcolor": "white",
           "lakecolor": "white",
           "landcolor": "#E5ECF6",
           "showlakes": true,
           "showland": true,
           "subunitcolor": "white"
          },
          "hoverlabel": {
           "align": "left"
          },
          "hovermode": "closest",
          "mapbox": {
           "style": "light"
          },
          "paper_bgcolor": "white",
          "plot_bgcolor": "#E5ECF6",
          "polar": {
           "angularaxis": {
            "gridcolor": "white",
            "linecolor": "white",
            "ticks": ""
           },
           "bgcolor": "#E5ECF6",
           "radialaxis": {
            "gridcolor": "white",
            "linecolor": "white",
            "ticks": ""
           }
          },
          "scene": {
           "xaxis": {
            "backgroundcolor": "#E5ECF6",
            "gridcolor": "white",
            "gridwidth": 2,
            "linecolor": "white",
            "showbackground": true,
            "ticks": "",
            "zerolinecolor": "white"
           },
           "yaxis": {
            "backgroundcolor": "#E5ECF6",
            "gridcolor": "white",
            "gridwidth": 2,
            "linecolor": "white",
            "showbackground": true,
            "ticks": "",
            "zerolinecolor": "white"
           },
           "zaxis": {
            "backgroundcolor": "#E5ECF6",
            "gridcolor": "white",
            "gridwidth": 2,
            "linecolor": "white",
            "showbackground": true,
            "ticks": "",
            "zerolinecolor": "white"
           }
          },
          "shapedefaults": {
           "line": {
            "color": "#2a3f5f"
           }
          },
          "ternary": {
           "aaxis": {
            "gridcolor": "white",
            "linecolor": "white",
            "ticks": ""
           },
           "baxis": {
            "gridcolor": "white",
            "linecolor": "white",
            "ticks": ""
           },
           "bgcolor": "#E5ECF6",
           "caxis": {
            "gridcolor": "white",
            "linecolor": "white",
            "ticks": ""
           }
          },
          "title": {
           "x": 0.05
          },
          "xaxis": {
           "automargin": true,
           "gridcolor": "white",
           "linecolor": "white",
           "ticks": "",
           "title": {
            "standoff": 15
           },
           "zerolinecolor": "white",
           "zerolinewidth": 2
          },
          "yaxis": {
           "automargin": true,
           "gridcolor": "white",
           "linecolor": "white",
           "ticks": "",
           "title": {
            "standoff": 15
           },
           "zerolinecolor": "white",
           "zerolinewidth": 2
          }
         }
        }
       }
      },
      "image/png": "[encoded data removed]",
      "text/html": [
       "<div>                            <div id=\"b3a5ecd1-64a2-4a5c-af59-a12c82670d8d\" class=\"plotly-graph-div\" style=\"height:525px; width:100%;\"></div>            <script type=\"text/javascript\">                require([\"plotly\"], function(Plotly) {                    window.PLOTLYENV=window.PLOTLYENV || {};                                    if (document.getElementById(\"b3a5ecd1-64a2-4a5c-af59-a12c82670d8d\")) {                    Plotly.newPlot(                        \"b3a5ecd1-64a2-4a5c-af59-a12c82670d8d\",                        [{\"branchvalues\":\"total\",\"customdata\":[[107.0],[71.0],[257.0],[89.0],[231.0],[128.0],[170.0],[485.0],[231.0],[144.0],[59.0],[532.0],[80.0],[72.0],[212.0],[463.0],[65.0],[91.0],[77.0],[144.0],[276.0],[166.0],[340.0],[281.0],[83.0],[151.0],[116.0],[77.0],[70.0],[170.0],[65.0],[381.0],[711.0],[69.0],[71.0],[198.0],[236.0],[86.0],[86.0],[117.0],[232.0],[163.0],[549.0],[59.0],[206.0],[198.0],[59.0],[91.0],[136.0],[72.0],[299.9690989916513]],\"domain\":{\"x\":[0.0,1.0],\"y\":[0.0,1.0]},\"hovertemplate\":\"labels=%{label}\\u003cbr\\u003etransactions=%{value}\\u003cbr\\u003eparent=%{parent}\\u003cbr\\u003eid=%{id}\\u003cbr\\u003ecolor=%{color}\\u003cextra\\u003e\\u003c\\u002fextra\\u003e\",\"ids\":[\"Tree Map\\u002favocado\",\"Tree Map\\u002fbrownies\",\"Tree Map\\u002fburgers\",\"Tree Map\\u002fbutter\",\"Tree Map\\u002fcake\",\"Tree Map\\u002fchampagne\",\"Tree Map\\u002fchicken\",\"Tree Map\\u002fchocolate\",\"Tree Map\\u002fcookies\",\"Tree Map\\u002fcooking oil\",\"Tree Map\\u002fcottage cheese\",\"Tree Map\\u002feggs\",\"Tree Map\\u002fenergy bar\",\"Tree Map\\u002fenergy drink\",\"Tree Map\\u002fescalope\",\"Tree Map\\u002ffrench fries\",\"Tree Map\\u002ffrench wine\",\"Tree Map\\u002ffresh bread\",\"Tree Map\\u002ffresh tuna\",\"Tree Map\\u002ffrozen smoothie\",\"Tree Map\\u002ffrozen vegetables\",\"Tree Map\\u002fgrated cheese\",\"Tree Map\\u002fgreen tea\",\"Tree Map\\u002fground beef\",\"Tree Map\\u002fham\",\"Tree Map\\u002fherb & pepper\",\"Tree Map\\u002fhoney\",\"Tree Map\\u002fhot dogs\",\"Tree Map\\u002flight mayo\",\"Tree Map\\u002flow fat yogurt\",\"Tree Map\\u002fmeatballs\",\"Tree Map\\u002fmilk\",\"Tree Map\\u002fmineral water\",\"Tree Map\\u002fmuffins\",\"Tree Map\\u002foil\",\"Tree Map\\u002folive oil\",\"Tree Map\\u002fpancakes\",\"Tree Map\\u002fpepper\",\"Tree Map\\u002fred wine\",\"Tree Map\\u002fsalmon\",\"Tree Map\\u002fshrimp\",\"Tree Map\\u002fsoup\",\"Tree Map\\u002fspaghetti\",\"Tree Map\\u002fstrawberries\",\"Tree Map\\u002ftomatoes\",\"Tree Map\\u002fturkey\",\"Tree Map\\u002fvegetables mix\",\"Tree Map\\u002fwhole wheat pasta\",\"Tree Map\\u002fwhole wheat rice\",\"Tree Map\\u002fyogurt cake\",\"Tree Map\"],\"labels\":[\"avocado\",\"brownies\",\"burgers\",\"butter\",\"cake\",\"champagne\",\"chicken\",\"chocolate\",\"cookies\",\"cooking oil\",\"cottage cheese\",\"eggs\",\"energy bar\",\"energy drink\",\"escalope\",\"french fries\",\"french wine\",\"fresh bread\",\"fresh tuna\",\"frozen smoothie\",\"frozen vegetables\",\"grated cheese\",\"green tea\",\"ground beef\",\"ham\",\"herb & pepper\",\"honey\",\"hot dogs\",\"light mayo\",\"low fat yogurt\",\"meatballs\",\"milk\",\"mineral water\",\"muffins\",\"oil\",\"olive oil\",\"pancakes\",\"pepper\",\"red wine\",\"salmon\",\"shrimp\",\"soup\",\"spaghetti\",\"strawberries\",\"tomatoes\",\"turkey\",\"vegetables mix\",\"whole wheat pasta\",\"whole wheat rice\",\"yogurt cake\",\"Tree Map\"],\"marker\":{\"coloraxis\":\"coloraxis\",\"colors\":[107.0,71.0,257.0,89.0,231.0,128.0,170.0,485.0,231.0,144.0,59.0,532.0,80.0,72.0,212.0,463.0,65.0,91.0,77.0,144.0,276.0,166.0,340.0,281.0,83.0,151.0,116.0,77.0,70.0,170.0,65.0,381.0,711.0,69.0,71.0,198.0,236.0,86.0,86.0,117.0,232.0,163.0,549.0,59.0,206.0,198.0,59.0,91.0,136.0,72.0,299.9690989916513]},\"name\":\"\",\"parents\":[\"Tree Map\",\"Tree Map\",\"Tree Map\",\"Tree Map\",\"Tree Map\",\"Tree Map\",\"Tree Map\",\"Tree Map\",\"Tree Map\",\"Tree Map\",\"Tree Map\",\"Tree Map\",\"Tree Map\",\"Tree Map\",\"Tree Map\",\"Tree Map\",\"Tree Map\",\"Tree Map\",\"Tree Map\",\"Tree Map\",\"Tree Map\",\"Tree Map\",\"Tree Map\",\"Tree Map\",\"Tree Map\",\"Tree Map\",\"Tree Map\",\"Tree Map\",\"Tree Map\",\"Tree Map\",\"Tree Map\",\"Tree Map\",\"Tree Map\",\"Tree Map\",\"Tree Map\",\"Tree Map\",\"Tree Map\",\"Tree Map\",\"Tree Map\",\"Tree Map\",\"Tree Map\",\"Tree Map\",\"Tree Map\",\"Tree Map\",\"Tree Map\",\"Tree Map\",\"Tree Map\",\"Tree Map\",\"Tree Map\",\"Tree Map\",\"\"],\"values\":[107,71,257,89,231,128,170,485,231,144,59,532,80,72,212,463,65,91,77,144,276,166,340,281,83,151,116,77,70,170,65,381,711,69,71,198,236,86,86,117,232,163,549,59,206,198,59,91,136,72,9223],\"type\":\"treemap\"}],                        {\"template\":{\"data\":{\"histogram2dcontour\":[{\"type\":\"histogram2dcontour\",\"colorbar\":{\"outlinewidth\":0,\"ticks\":\"\"},\"colorscale\":[[0.0,\"#0d0887\"],[0.1111111111111111,\"#46039f\"],[0.2222222222222222,\"#7201a8\"],[0.3333333333333333,\"#9c179e\"],[0.4444444444444444,\"#bd3786\"],[0.5555555555555556,\"#d8576b\"],[0.6666666666666666,\"#ed7953\"],[0.7777777777777778,\"#fb9f3a\"],[0.8888888888888888,\"#fdca26\"],[1.0,\"#f0f921\"]]}],\"choropleth\":[{\"type\":\"choropleth\",\"colorbar\":{\"outlinewidth\":0,\"ticks\":\"\"}}],\"histogram2d\":[{\"type\":\"histogram2d\",\"colorbar\":{\"outlinewidth\":0,\"ticks\":\"\"},\"colorscale\":[[0.0,\"#0d0887\"],[0.1111111111111111,\"#46039f\"],[0.2222222222222222,\"#7201a8\"],[0.3333333333333333,\"#9c179e\"],[0.4444444444444444,\"#bd3786\"],[0.5555555555555556,\"#d8576b\"],[0.6666666666666666,\"#ed7953\"],[0.7777777777777778,\"#fb9f3a\"],[0.8888888888888888,\"#fdca26\"],[1.0,\"#f0f921\"]]}],\"heatmap\":[{\"type\":\"heatmap\",\"colorbar\":{\"outlinewidth\":0,\"ticks\":\"\"},\"colorscale\":[[0.0,\"#0d0887\"],[0.1111111111111111,\"#46039f\"],[0.2222222222222222,\"#7201a8\"],[0.3333333333333333,\"#9c179e\"],[0.4444444444444444,\"#bd3786\"],[0.5555555555555556,\"#d8576b\"],[0.6666666666666666,\"#ed7953\"],[0.7777777777777778,\"#fb9f3a\"],[0.8888888888888888,\"#fdca26\"],[1.0,\"#f0f921\"]]}],\"heatmapgl\":[{\"type\":\"heatmapgl\",\"colorbar\":{\"outlinewidth\":0,\"ticks\":\"\"},\"colorscale\":[[0.0,\"#0d0887\"],[0.1111111111111111,\"#46039f\"],[0.2222222222222222,\"#7201a8\"],[0.3333333333333333,\"#9c179e\"],[0.4444444444444444,\"#bd3786\"],[0.5555555555555556,\"#d8576b\"],[0.6666666666666666,\"#ed7953\"],[0.7777777777777778,\"#fb9f3a\"],[0.8888888888888888,\"#fdca26\"],[1.0,\"#f0f921\"]]}],\"contourcarpet\":[{\"type\":\"contourcarpet\",\"colorbar\":{\"outlinewidth\":0,\"ticks\":\"\"}}],\"contour\":[{\"type\":\"contour\",\"colorbar\":{\"outlinewidth\":0,\"ticks\":\"\"},\"colorscale\":[[0.0,\"#0d0887\"],[0.1111111111111111,\"#46039f\"],[0.2222222222222222,\"#7201a8\"],[0.3333333333333333,\"#9c179e\"],[0.4444444444444444,\"#bd3786\"],[0.5555555555555556,\"#d8576b\"],[0.6666666666666666,\"#ed7953\"],[0.7777777777777778,\"#fb9f3a\"],[0.8888888888888888,\"#fdca26\"],[1.0,\"#f0f921\"]]}],\"surface\":[{\"type\":\"surface\",\"colorbar\":{\"outlinewidth\":0,\"ticks\":\"\"},\"colorscale\":[[0.0,\"#0d0887\"],[0.1111111111111111,\"#46039f\"],[0.2222222222222222,\"#7201a8\"],[0.3333333333333333,\"#9c179e\"],[0.4444444444444444,\"#bd3786\"],[0.5555555555555556,\"#d8576b\"],[0.6666666666666666,\"#ed7953\"],[0.7777777777777778,\"#fb9f3a\"],[0.8888888888888888,\"#fdca26\"],[1.0,\"#f0f921\"]]}],\"mesh3d\":[{\"type\":\"mesh3d\",\"colorbar\":{\"outlinewidth\":0,\"ticks\":\"\"}}],\"scatter\":[{\"fillpattern\":{\"fillmode\":\"overlay\",\"size\":10,\"solidity\":0.2},\"type\":\"scatter\"}],\"parcoords\":[{\"type\":\"parcoords\",\"line\":{\"colorbar\":{\"outlinewidth\":0,\"ticks\":\"\"}}}],\"scatterpolargl\":[{\"type\":\"scatterpolargl\",\"marker\":{\"colorbar\":{\"outlinewidth\":0,\"ticks\":\"\"}}}],\"bar\":[{\"error_x\":{\"color\":\"#2a3f5f\"},\"error_y\":{\"color\":\"#2a3f5f\"},\"marker\":{\"line\":{\"color\":\"#E5ECF6\",\"width\":0.5},\"pattern\":{\"fillmode\":\"overlay\",\"size\":10,\"solidity\":0.2}},\"type\":\"bar\"}],\"scattergeo\":[{\"type\":\"scattergeo\",\"marker\":{\"colorbar\":{\"outlinewidth\":0,\"ticks\":\"\"}}}],\"scatterpolar\":[{\"type\":\"scatterpolar\",\"marker\":{\"colorbar\":{\"outlinewidth\":0,\"ticks\":\"\"}}}],\"histogram\":[{\"marker\":{\"pattern\":{\"fillmode\":\"overlay\",\"size\":10,\"solidity\":0.2}},\"type\":\"histogram\"}],\"scattergl\":[{\"type\":\"scattergl\",\"marker\":{\"colorbar\":{\"outlinewidth\":0,\"ticks\":\"\"}}}],\"scatter3d\":[{\"type\":\"scatter3d\",\"line\":{\"colorbar\":{\"outlinewidth\":0,\"ticks\":\"\"}},\"marker\":{\"colorbar\":{\"outlinewidth\":0,\"ticks\":\"\"}}}],\"scattermapbox\":[{\"type\":\"scattermapbox\",\"marker\":{\"colorbar\":{\"outlinewidth\":0,\"ticks\":\"\"}}}],\"scatterternary\":[{\"type\":\"scatterternary\",\"marker\":{\"colorbar\":{\"outlinewidth\":0,\"ticks\":\"\"}}}],\"scattercarpet\":[{\"type\":\"scattercarpet\",\"marker\":{\"colorbar\":{\"outlinewidth\":0,\"ticks\":\"\"}}}],\"carpet\":[{\"aaxis\":{\"endlinecolor\":\"#2a3f5f\",\"gridcolor\":\"white\",\"linecolor\":\"white\",\"minorgridcolor\":\"white\",\"startlinecolor\":\"#2a3f5f\"},\"baxis\":{\"endlinecolor\":\"#2a3f5f\",\"gridcolor\":\"white\",\"linecolor\":\"white\",\"minorgridcolor\":\"white\",\"startlinecolor\":\"#2a3f5f\"},\"type\":\"carpet\"}],\"table\":[{\"cells\":{\"fill\":{\"color\":\"#EBF0F8\"},\"line\":{\"color\":\"white\"}},\"header\":{\"fill\":{\"color\":\"#C8D4E3\"},\"line\":{\"color\":\"white\"}},\"type\":\"table\"}],\"barpolar\":[{\"marker\":{\"line\":{\"color\":\"#E5ECF6\",\"width\":0.5},\"pattern\":{\"fillmode\":\"overlay\",\"size\":10,\"solidity\":0.2}},\"type\":\"barpolar\"}],\"pie\":[{\"automargin\":true,\"type\":\"pie\"}]},\"layout\":{\"autotypenumbers\":\"strict\",\"colorway\":[\"#636efa\",\"#EF553B\",\"#00cc96\",\"#ab63fa\",\"#FFA15A\",\"#19d3f3\",\"#FF6692\",\"#B6E880\",\"#FF97FF\",\"#FECB52\"],\"font\":{\"color\":\"#2a3f5f\"},\"hovermode\":\"closest\",\"hoverlabel\":{\"align\":\"left\"},\"paper_bgcolor\":\"white\",\"plot_bgcolor\":\"#E5ECF6\",\"polar\":{\"bgcolor\":\"#E5ECF6\",\"angularaxis\":{\"gridcolor\":\"white\",\"linecolor\":\"white\",\"ticks\":\"\"},\"radialaxis\":{\"gridcolor\":\"white\",\"linecolor\":\"white\",\"ticks\":\"\"}},\"ternary\":{\"bgcolor\":\"#E5ECF6\",\"aaxis\":{\"gridcolor\":\"white\",\"linecolor\":\"white\",\"ticks\":\"\"},\"baxis\":{\"gridcolor\":\"white\",\"linecolor\":\"white\",\"ticks\":\"\"},\"caxis\":{\"gridcolor\":\"white\",\"linecolor\":\"white\",\"ticks\":\"\"}},\"coloraxis\":{\"colorbar\":{\"outlinewidth\":0,\"ticks\":\"\"}},\"colorscale\":{\"sequential\":[[0.0,\"#0d0887\"],[0.1111111111111111,\"#46039f\"],[0.2222222222222222,\"#7201a8\"],[0.3333333333333333,\"#9c179e\"],[0.4444444444444444,\"#bd3786\"],[0.5555555555555556,\"#d8576b\"],[0.6666666666666666,\"#ed7953\"],[0.7777777777777778,\"#fb9f3a\"],[0.8888888888888888,\"#fdca26\"],[1.0,\"#f0f921\"]],\"sequentialminus\":[[0.0,\"#0d0887\"],[0.1111111111111111,\"#46039f\"],[0.2222222222222222,\"#7201a8\"],[0.3333333333333333,\"#9c179e\"],[0.4444444444444444,\"#bd3786\"],[0.5555555555555556,\"#d8576b\"],[0.6666666666666666,\"#ed7953\"],[0.7777777777777778,\"#fb9f3a\"],[0.8888888888888888,\"#fdca26\"],[1.0,\"#f0f921\"]],\"diverging\":[[0,\"#8e0152\"],[0.1,\"#c51b7d\"],[0.2,\"#de77ae\"],[0.3,\"#f1b6da\"],[0.4,\"#fde0ef\"],[0.5,\"#f7f7f7\"],[0.6,\"#e6f5d0\"],[0.7,\"#b8e186\"],[0.8,\"#7fbc41\"],[0.9,\"#4d9221\"],[1,\"#276419\"]]},\"xaxis\":{\"gridcolor\":\"white\",\"linecolor\":\"white\",\"ticks\":\"\",\"title\":{\"standoff\":15},\"zerolinecolor\":\"white\",\"automargin\":true,\"zerolinewidth\":2},\"yaxis\":{\"gridcolor\":\"white\",\"linecolor\":\"white\",\"ticks\":\"\",\"title\":{\"standoff\":15},\"zerolinecolor\":\"white\",\"automargin\":true,\"zerolinewidth\":2},\"scene\":{\"xaxis\":{\"backgroundcolor\":\"#E5ECF6\",\"gridcolor\":\"white\",\"linecolor\":\"white\",\"showbackground\":true,\"ticks\":\"\",\"zerolinecolor\":\"white\",\"gridwidth\":2},\"yaxis\":{\"backgroundcolor\":\"#E5ECF6\",\"gridcolor\":\"white\",\"linecolor\":\"white\",\"showbackground\":true,\"ticks\":\"\",\"zerolinecolor\":\"white\",\"gridwidth\":2},\"zaxis\":{\"backgroundcolor\":\"#E5ECF6\",\"gridcolor\":\"white\",\"linecolor\":\"white\",\"showbackground\":true,\"ticks\":\"\",\"zerolinecolor\":\"white\",\"gridwidth\":2}},\"shapedefaults\":{\"line\":{\"color\":\"#2a3f5f\"}},\"annotationdefaults\":{\"arrowcolor\":\"#2a3f5f\",\"arrowhead\":0,\"arrowwidth\":1},\"geo\":{\"bgcolor\":\"white\",\"landcolor\":\"#E5ECF6\",\"subunitcolor\":\"white\",\"showland\":true,\"showlakes\":true,\"lakecolor\":\"white\"},\"title\":{\"x\":0.05},\"mapbox\":{\"style\":\"light\"}}},\"coloraxis\":{\"colorbar\":{\"title\":{\"text\":\"color\"}},\"colorscale\":[[0.0,\"#0d0887\"],[0.1111111111111111,\"#46039f\"],[0.2222222222222222,\"#7201a8\"],[0.3333333333333333,\"#9c179e\"],[0.4444444444444444,\"#bd3786\"],[0.5555555555555556,\"#d8576b\"],[0.6666666666666666,\"#ed7953\"],[0.7777777777777778,\"#fb9f3a\"],[0.8888888888888888,\"#fdca26\"],[1.0,\"#f0f921\"]]},\"legend\":{\"tracegroupgap\":0},\"margin\":{\"t\":60}},                        {\"responsive\": true}                    ).then(function(){\n",
       "                            \n",
       "var gd = document.getElementById('b3a5ecd1-64a2-4a5c-af59-a12c82670d8d');\n",
       "var x = new MutationObserver(function (mutations, observer) {{\n",
       "        var display = window.getComputedStyle(gd).display;\n",
       "        if (!display || display === 'none') {{\n",
       "            console.log([gd, 'removed!']);\n",
       "            Plotly.purge(gd);\n",
       "            observer.disconnect();\n",
       "        }}\n",
       "}});\n",
       "\n",
       "// Listen for the removal of the full notebook cells\n",
       "var notebookContainer = gd.closest('#notebook-container');\n",
       "if (notebookContainer) {{\n",
       "    x.observe(notebookContainer, {childList: true});\n",
       "}}\n",
       "\n",
       "// Listen for the clearing of the current output cell\n",
       "var outputEl = gd.closest('.output');\n",
       "if (outputEl) {{\n",
       "    x.observe(outputEl, {childList: true});\n",
       "}}\n",
       "\n",
       "                        })                };                });            </script>        </div>"
      ]
     },
     "metadata": {},
     "output_type": "display_data"
    }
   ],
   "source": [
    "import plotly.express as px\n",
    "df_table[\"all\"] = \"Tree Map\"\n",
    "fig = px.treemap(df_table.head(50), path=['all', \"items\"], values='transactions',\n",
    "                  color=df_table[\"transactions\"].head(50),\n",
    "                )\n",
    "fig.show()"
   ]
  },
  {
   "cell_type": "code",
   "execution_count": null,
   "id": "6b4c4ac2-00ec-4f40-809a-69c655c2ee52",
   "metadata": {},
   "outputs": [],
   "source": [
    "min_support = 5/100\n",
    "min_combination = 2\n",
    "max_combination = max(items_per_transaction)\n",
    "rule_indices, rule_supports = eclat.fit(min_support=min_support,\n",
    "                                                 min_combination=min_combination,\n",
    "                                                 max_combination=max_combination,\n",
    "                                                 separator=' & ',\n",
    "                                                 verbose=True)"
   ]
  },
  {
   "cell_type": "code",
   "execution_count": null,
   "id": "a2f6a765-f8c3-4dbb-8fc8-592126fab507",
   "metadata": {},
   "outputs": [],
   "source": [
    "import pandas as pd\n",
    "result = pd.DataFrame(rule_supports.items(),columns=['Item', 'Support'])\n",
    "result.sort_values(by=['Support'], ascending=False)"
   ]
  }
 ],
 "metadata": {
  "kernelspec": {
   "display_name": "Python 3 (ipykernel)",
   "language": "python",
   "name": "python3"
  },
  "language_info": {
   "codemirror_mode": {
    "name": "ipython",
    "version": 3
   },
   "file_extension": ".py",
   "mimetype": "text/x-python",
   "name": "python",
   "nbconvert_exporter": "python",
   "pygments_lexer": "ipython3",
   "version": "3.12.1"
  }
 },
 "nbformat": 4,
 "nbformat_minor": 5
}
